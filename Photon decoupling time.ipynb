{
 "cells": [
  {
   "cell_type": "code",
   "execution_count": 9,
   "id": "9d66db5a",
   "metadata": {},
   "outputs": [],
   "source": [
    "# -*- encoding:utf-8 -*-\n",
    "%matplotlib notebook\n",
    "import numpy as np\n",
    "import matplotlib.pyplot as plt\n",
    "from scipy import constants\n",
    "from scipy import optimize\n",
    "\n",
    "m_e = constants.m_e\n",
    "k_B = constants.k\n",
    "pi = constants.pi\n",
    "hbar = constants.hbar\n",
    "E_I = 13.6*constants.electron_volt\n",
    "x_e = 0.5\n",
    "\n",
    "\n",
    "def f(z):\n",
    "    n_tol = 1/(1.6*(1+z)**3)\n",
    "    T = 2.728*(1+z)\n",
    "    x1 = m_e*k_B*T/2/pi/hbar**2\n",
    "    return n_tol*x1**(3/2)*np.exp(-E_I/k_B/T)-0.5\n",
    "\n",
    "\n",
    "sol = optimize.brentq(f,a=10,  b=2000)\n",
    "print('Results:%0.9e, Error:%0.6e'%(sol,f(sol)))"
   ]
  },
  {
   "cell_type": "code",
   "execution_count": null,
   "id": "2993ef73",
   "metadata": {},
   "outputs": [],
   "source": []
  },
  {
   "cell_type": "code",
   "execution_count": null,
   "id": "38d3764a",
   "metadata": {},
   "outputs": [],
   "source": []
  }
 ],
 "metadata": {
  "kernelspec": {
   "display_name": "Python 3",
   "language": "python",
   "name": "python3"
  },
  "language_info": {
   "codemirror_mode": {
    "name": "ipython",
    "version": 3
   },
   "file_extension": ".py",
   "mimetype": "text/x-python",
   "name": "python",
   "nbconvert_exporter": "python",
   "pygments_lexer": "ipython3",
   "version": "3.8.5"
  }
 },
 "nbformat": 4,
 "nbformat_minor": 5
}
