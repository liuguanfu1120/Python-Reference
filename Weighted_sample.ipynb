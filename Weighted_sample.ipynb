{
 "cells": [
  {
   "cell_type": "code",
   "execution_count": 2,
   "id": "cd69ed6b",
   "metadata": {},
   "outputs": [
    {
     "name": "stdout",
     "output_type": "stream",
     "text": [
      "获奖的幸运儿是： ['李进泽' '洪泽凯' 'Summer 653' '宗泽' 'Undfttd-']\n"
     ]
    }
   ],
   "source": [
    "import pandas as pd\n",
    "import numpy as np\n",
    "file1 = '物天长跑队2021.10线上打卡.xlsx'\n",
    "df1 = pd.read_excel(file1)\n",
    "name1 = df1.iloc[:,0]\n",
    "weights = df1.iloc[:,1]/np.sum(df1.iloc[:,1])\n",
    "num = 5 #num是获奖的人数\n",
    "print('获奖的幸运儿是：',np.random.choice(name1,size=num,replace=False, p=weights))"
   ]
  },
  {
   "cell_type": "code",
   "execution_count": null,
   "id": "03c2745d",
   "metadata": {},
   "outputs": [],
   "source": []
  },
  {
   "cell_type": "code",
   "execution_count": null,
   "id": "5e34ee61",
   "metadata": {},
   "outputs": [],
   "source": []
  },
  {
   "cell_type": "code",
   "execution_count": 14,
   "id": "5c6d0fd2",
   "metadata": {},
   "outputs": [],
   "source": []
  },
  {
   "cell_type": "code",
   "execution_count": null,
   "id": "17d1d8cf",
   "metadata": {},
   "outputs": [],
   "source": []
  }
 ],
 "metadata": {
  "kernelspec": {
   "display_name": "Python 3 (ipykernel)",
   "language": "python",
   "name": "python3"
  },
  "language_info": {
   "codemirror_mode": {
    "name": "ipython",
    "version": 3
   },
   "file_extension": ".py",
   "mimetype": "text/x-python",
   "name": "python",
   "nbconvert_exporter": "python",
   "pygments_lexer": "ipython3",
   "version": "3.8.5"
  }
 },
 "nbformat": 4,
 "nbformat_minor": 5
}
